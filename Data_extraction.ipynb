{
 "cells": [
  {
   "cell_type": "code",
   "execution_count": 1,
   "id": "c84d45fb",
   "metadata": {
    "ExecuteTime": {
     "end_time": "2024-03-10T22:26:02.147259Z",
     "start_time": "2024-03-10T22:26:02.144943Z"
    }
   },
   "outputs": [],
   "source": [
    "import sqlite3\n",
    "import pandas as pd"
   ]
  },
  {
   "cell_type": "code",
   "execution_count": 2,
   "id": "5bef1247",
   "metadata": {
    "ExecuteTime": {
     "end_time": "2024-03-10T22:26:04.838663Z",
     "start_time": "2024-03-10T22:26:04.828870Z"
    }
   },
   "outputs": [
    {
     "name": "stdout",
     "output_type": "stream",
     "text": [
      "spatial_ref_sys\n",
      "spatialite_history\n",
      "sqlite_sequence\n",
      "geometry_columns\n",
      "spatial_ref_sys_aux\n",
      "views_geometry_columns\n",
      "virts_geometry_columns\n",
      "geometry_columns_statistics\n",
      "views_geometry_columns_statistics\n",
      "virts_geometry_columns_statistics\n",
      "geometry_columns_field_infos\n",
      "views_geometry_columns_field_infos\n",
      "virts_geometry_columns_field_infos\n",
      "geometry_columns_time\n",
      "geometry_columns_auth\n",
      "views_geometry_columns_auth\n",
      "virts_geometry_columns_auth\n",
      "sql_statements_log\n",
      "SpatialIndex\n",
      "ElementaryGeometries\n",
      "KNN\n",
      "Fires\n",
      "idx_Fires_Shape\n",
      "idx_Fires_Shape_node\n",
      "idx_Fires_Shape_rowid\n",
      "idx_Fires_Shape_parent\n",
      "NWCG_UnitIDActive_20170109\n"
     ]
    }
   ],
   "source": [
    "conn = sqlite3.connect('FPA_FOD_20170508.sqlite')\n",
    "\n",
    "cursor = conn.cursor()\n",
    "cursor.execute(\"SELECT name FROM sqlite_master WHERE type='table';\")\n",
    "tables = cursor.fetchall()\n",
    "\n",
    "for table in tables:\n",
    "    print(table[0])"
   ]
  },
  {
   "cell_type": "code",
   "execution_count": 3,
   "id": "c91759af",
   "metadata": {
    "ExecuteTime": {
     "end_time": "2024-03-10T22:26:21.192989Z",
     "start_time": "2024-03-10T22:26:05.642780Z"
    }
   },
   "outputs": [],
   "source": [
    "fires = pd.read_sql_query(\"SELECT * FROM fires\", conn)"
   ]
  },
  {
   "cell_type": "code",
   "execution_count": 4,
   "id": "79b0f8b7",
   "metadata": {
    "ExecuteTime": {
     "end_time": "2024-03-10T22:26:24.347402Z",
     "start_time": "2024-03-10T22:26:24.330946Z"
    }
   },
   "outputs": [
    {
     "data": {
      "text/plain": "   OBJECTID  FOD_ID      FPA_ID SOURCE_SYSTEM_TYPE SOURCE_SYSTEM  \\\n0         1       1  FS-1418826                FED   FS-FIRESTAT   \n1         2       2  FS-1418827                FED   FS-FIRESTAT   \n2         3       3  FS-1418835                FED   FS-FIRESTAT   \n3         4       4  FS-1418845                FED   FS-FIRESTAT   \n4         5       5  FS-1418847                FED   FS-FIRESTAT   \n\n  NWCG_REPORTING_AGENCY NWCG_REPORTING_UNIT_ID  NWCG_REPORTING_UNIT_NAME  \\\n0                    FS                USCAPNF    Plumas National Forest   \n1                    FS                USCAENF  Eldorado National Forest   \n2                    FS                USCAENF  Eldorado National Forest   \n3                    FS                USCAENF  Eldorado National Forest   \n4                    FS                USCAENF  Eldorado National Forest   \n\n  SOURCE_REPORTING_UNIT SOURCE_REPORTING_UNIT_NAME  ... FIRE_SIZE_CLASS  \\\n0                  0511     Plumas National Forest  ...               A   \n1                  0503   Eldorado National Forest  ...               A   \n2                  0503   Eldorado National Forest  ...               A   \n3                  0503   Eldorado National Forest  ...               A   \n4                  0503   Eldorado National Forest  ...               A   \n\n    LATITUDE   LONGITUDE OWNER_CODE       OWNER_DESCR STATE COUNTY FIPS_CODE  \\\n0  40.036944 -121.005833        5.0              USFS    CA     63       063   \n1  38.933056 -120.404444        5.0              USFS    CA     61       061   \n2  38.984167 -120.735556       13.0  STATE OR PRIVATE    CA     17       017   \n3  38.559167 -119.913333        5.0              USFS    CA      3       003   \n4  38.559167 -119.933056        5.0              USFS    CA      3       003   \n\n   FIPS_NAME                                              Shape  \n0     Plumas  b'\\x00\\x01\\xad\\x10\\x00\\x00\\xe8d\\xc2\\x92_@^\\xc0...  \n1     Placer  b'\\x00\\x01\\xad\\x10\\x00\\x00T\\xb6\\xeej\\xe2\\x19^\\...  \n2  El Dorado  b'\\x00\\x01\\xad\\x10\\x00\\x00\\xd0\\xa5\\xa0W\\x13/^\\...  \n3     Alpine  b'\\x00\\x01\\xad\\x10\\x00\\x00\\x94\\xac\\xa3\\rt\\xfa]...  \n4     Alpine  b'\\x00\\x01\\xad\\x10\\x00\\x00@\\xe3\\xaa.\\xb7\\xfb]\\...  \n\n[5 rows x 39 columns]",
      "text/html": "<div>\n<style scoped>\n    .dataframe tbody tr th:only-of-type {\n        vertical-align: middle;\n    }\n\n    .dataframe tbody tr th {\n        vertical-align: top;\n    }\n\n    .dataframe thead th {\n        text-align: right;\n    }\n</style>\n<table border=\"1\" class=\"dataframe\">\n  <thead>\n    <tr style=\"text-align: right;\">\n      <th></th>\n      <th>OBJECTID</th>\n      <th>FOD_ID</th>\n      <th>FPA_ID</th>\n      <th>SOURCE_SYSTEM_TYPE</th>\n      <th>SOURCE_SYSTEM</th>\n      <th>NWCG_REPORTING_AGENCY</th>\n      <th>NWCG_REPORTING_UNIT_ID</th>\n      <th>NWCG_REPORTING_UNIT_NAME</th>\n      <th>SOURCE_REPORTING_UNIT</th>\n      <th>SOURCE_REPORTING_UNIT_NAME</th>\n      <th>...</th>\n      <th>FIRE_SIZE_CLASS</th>\n      <th>LATITUDE</th>\n      <th>LONGITUDE</th>\n      <th>OWNER_CODE</th>\n      <th>OWNER_DESCR</th>\n      <th>STATE</th>\n      <th>COUNTY</th>\n      <th>FIPS_CODE</th>\n      <th>FIPS_NAME</th>\n      <th>Shape</th>\n    </tr>\n  </thead>\n  <tbody>\n    <tr>\n      <th>0</th>\n      <td>1</td>\n      <td>1</td>\n      <td>FS-1418826</td>\n      <td>FED</td>\n      <td>FS-FIRESTAT</td>\n      <td>FS</td>\n      <td>USCAPNF</td>\n      <td>Plumas National Forest</td>\n      <td>0511</td>\n      <td>Plumas National Forest</td>\n      <td>...</td>\n      <td>A</td>\n      <td>40.036944</td>\n      <td>-121.005833</td>\n      <td>5.0</td>\n      <td>USFS</td>\n      <td>CA</td>\n      <td>63</td>\n      <td>063</td>\n      <td>Plumas</td>\n      <td>b'\\x00\\x01\\xad\\x10\\x00\\x00\\xe8d\\xc2\\x92_@^\\xc0...</td>\n    </tr>\n    <tr>\n      <th>1</th>\n      <td>2</td>\n      <td>2</td>\n      <td>FS-1418827</td>\n      <td>FED</td>\n      <td>FS-FIRESTAT</td>\n      <td>FS</td>\n      <td>USCAENF</td>\n      <td>Eldorado National Forest</td>\n      <td>0503</td>\n      <td>Eldorado National Forest</td>\n      <td>...</td>\n      <td>A</td>\n      <td>38.933056</td>\n      <td>-120.404444</td>\n      <td>5.0</td>\n      <td>USFS</td>\n      <td>CA</td>\n      <td>61</td>\n      <td>061</td>\n      <td>Placer</td>\n      <td>b'\\x00\\x01\\xad\\x10\\x00\\x00T\\xb6\\xeej\\xe2\\x19^\\...</td>\n    </tr>\n    <tr>\n      <th>2</th>\n      <td>3</td>\n      <td>3</td>\n      <td>FS-1418835</td>\n      <td>FED</td>\n      <td>FS-FIRESTAT</td>\n      <td>FS</td>\n      <td>USCAENF</td>\n      <td>Eldorado National Forest</td>\n      <td>0503</td>\n      <td>Eldorado National Forest</td>\n      <td>...</td>\n      <td>A</td>\n      <td>38.984167</td>\n      <td>-120.735556</td>\n      <td>13.0</td>\n      <td>STATE OR PRIVATE</td>\n      <td>CA</td>\n      <td>17</td>\n      <td>017</td>\n      <td>El Dorado</td>\n      <td>b'\\x00\\x01\\xad\\x10\\x00\\x00\\xd0\\xa5\\xa0W\\x13/^\\...</td>\n    </tr>\n    <tr>\n      <th>3</th>\n      <td>4</td>\n      <td>4</td>\n      <td>FS-1418845</td>\n      <td>FED</td>\n      <td>FS-FIRESTAT</td>\n      <td>FS</td>\n      <td>USCAENF</td>\n      <td>Eldorado National Forest</td>\n      <td>0503</td>\n      <td>Eldorado National Forest</td>\n      <td>...</td>\n      <td>A</td>\n      <td>38.559167</td>\n      <td>-119.913333</td>\n      <td>5.0</td>\n      <td>USFS</td>\n      <td>CA</td>\n      <td>3</td>\n      <td>003</td>\n      <td>Alpine</td>\n      <td>b'\\x00\\x01\\xad\\x10\\x00\\x00\\x94\\xac\\xa3\\rt\\xfa]...</td>\n    </tr>\n    <tr>\n      <th>4</th>\n      <td>5</td>\n      <td>5</td>\n      <td>FS-1418847</td>\n      <td>FED</td>\n      <td>FS-FIRESTAT</td>\n      <td>FS</td>\n      <td>USCAENF</td>\n      <td>Eldorado National Forest</td>\n      <td>0503</td>\n      <td>Eldorado National Forest</td>\n      <td>...</td>\n      <td>A</td>\n      <td>38.559167</td>\n      <td>-119.933056</td>\n      <td>5.0</td>\n      <td>USFS</td>\n      <td>CA</td>\n      <td>3</td>\n      <td>003</td>\n      <td>Alpine</td>\n      <td>b'\\x00\\x01\\xad\\x10\\x00\\x00@\\xe3\\xaa.\\xb7\\xfb]\\...</td>\n    </tr>\n  </tbody>\n</table>\n<p>5 rows × 39 columns</p>\n</div>"
     },
     "execution_count": 4,
     "metadata": {},
     "output_type": "execute_result"
    }
   ],
   "source": [
    "fires.head()"
   ]
  },
  {
   "cell_type": "code",
   "execution_count": 5,
   "id": "3c98ca1f",
   "metadata": {
    "ExecuteTime": {
     "end_time": "2024-03-10T22:26:26.433851Z",
     "start_time": "2024-03-10T22:26:26.427724Z"
    }
   },
   "outputs": [
    {
     "data": {
      "text/plain": "Index(['OBJECTID', 'FOD_ID', 'FPA_ID', 'SOURCE_SYSTEM_TYPE', 'SOURCE_SYSTEM',\n       'NWCG_REPORTING_AGENCY', 'NWCG_REPORTING_UNIT_ID',\n       'NWCG_REPORTING_UNIT_NAME', 'SOURCE_REPORTING_UNIT',\n       'SOURCE_REPORTING_UNIT_NAME', 'LOCAL_FIRE_REPORT_ID',\n       'LOCAL_INCIDENT_ID', 'FIRE_CODE', 'FIRE_NAME',\n       'ICS_209_INCIDENT_NUMBER', 'ICS_209_NAME', 'MTBS_ID', 'MTBS_FIRE_NAME',\n       'COMPLEX_NAME', 'FIRE_YEAR', 'DISCOVERY_DATE', 'DISCOVERY_DOY',\n       'DISCOVERY_TIME', 'STAT_CAUSE_CODE', 'STAT_CAUSE_DESCR', 'CONT_DATE',\n       'CONT_DOY', 'CONT_TIME', 'FIRE_SIZE', 'FIRE_SIZE_CLASS', 'LATITUDE',\n       'LONGITUDE', 'OWNER_CODE', 'OWNER_DESCR', 'STATE', 'COUNTY',\n       'FIPS_CODE', 'FIPS_NAME', 'Shape'],\n      dtype='object')"
     },
     "execution_count": 5,
     "metadata": {},
     "output_type": "execute_result"
    }
   ],
   "source": [
    "fires.columns"
   ]
  },
  {
   "cell_type": "code",
   "execution_count": 6,
   "id": "9ed03c8a",
   "metadata": {
    "ExecuteTime": {
     "end_time": "2024-03-10T22:26:27.558266Z",
     "start_time": "2024-03-10T22:26:27.550729Z"
    }
   },
   "outputs": [
    {
     "name": "stdout",
     "output_type": "stream",
     "text": [
      "<class 'pandas.core.frame.DataFrame'>\n",
      "RangeIndex: 1880465 entries, 0 to 1880464\n",
      "Data columns (total 39 columns):\n",
      " #   Column                      Dtype  \n",
      "---  ------                      -----  \n",
      " 0   OBJECTID                    int64  \n",
      " 1   FOD_ID                      int64  \n",
      " 2   FPA_ID                      object \n",
      " 3   SOURCE_SYSTEM_TYPE          object \n",
      " 4   SOURCE_SYSTEM               object \n",
      " 5   NWCG_REPORTING_AGENCY       object \n",
      " 6   NWCG_REPORTING_UNIT_ID      object \n",
      " 7   NWCG_REPORTING_UNIT_NAME    object \n",
      " 8   SOURCE_REPORTING_UNIT       object \n",
      " 9   SOURCE_REPORTING_UNIT_NAME  object \n",
      " 10  LOCAL_FIRE_REPORT_ID        object \n",
      " 11  LOCAL_INCIDENT_ID           object \n",
      " 12  FIRE_CODE                   object \n",
      " 13  FIRE_NAME                   object \n",
      " 14  ICS_209_INCIDENT_NUMBER     object \n",
      " 15  ICS_209_NAME                object \n",
      " 16  MTBS_ID                     object \n",
      " 17  MTBS_FIRE_NAME              object \n",
      " 18  COMPLEX_NAME                object \n",
      " 19  FIRE_YEAR                   int64  \n",
      " 20  DISCOVERY_DATE              float64\n",
      " 21  DISCOVERY_DOY               int64  \n",
      " 22  DISCOVERY_TIME              object \n",
      " 23  STAT_CAUSE_CODE             float64\n",
      " 24  STAT_CAUSE_DESCR            object \n",
      " 25  CONT_DATE                   float64\n",
      " 26  CONT_DOY                    float64\n",
      " 27  CONT_TIME                   object \n",
      " 28  FIRE_SIZE                   float64\n",
      " 29  FIRE_SIZE_CLASS             object \n",
      " 30  LATITUDE                    float64\n",
      " 31  LONGITUDE                   float64\n",
      " 32  OWNER_CODE                  float64\n",
      " 33  OWNER_DESCR                 object \n",
      " 34  STATE                       object \n",
      " 35  COUNTY                      object \n",
      " 36  FIPS_CODE                   object \n",
      " 37  FIPS_NAME                   object \n",
      " 38  Shape                       object \n",
      "dtypes: float64(8), int64(4), object(27)\n",
      "memory usage: 559.5+ MB\n"
     ]
    }
   ],
   "source": [
    "fires.info()"
   ]
  },
  {
   "cell_type": "code",
   "execution_count": 7,
   "id": "58630aee",
   "metadata": {
    "ExecuteTime": {
     "end_time": "2024-03-10T22:26:29.082747Z",
     "start_time": "2024-03-10T22:26:28.799939Z"
    }
   },
   "outputs": [],
   "source": [
    "fires = fires[['SOURCE_SYSTEM_TYPE',\n",
    "               'SOURCE_SYSTEM',\n",
    "               'FIRE_YEAR',\n",
    "               'DISCOVERY_DATE',\n",
    "               'DISCOVERY_DOY',\n",
    "               'DISCOVERY_TIME',\n",
    "               'STAT_CAUSE_DESCR',\n",
    "               'CONT_DATE',\n",
    "               'CONT_DOY', \n",
    "               'CONT_TIME',\n",
    "               'FIRE_SIZE', \n",
    "               'FIRE_SIZE_CLASS',\n",
    "               'LATITUDE',\n",
    "               'LONGITUDE', \n",
    "               'OWNER_CODE', \n",
    "               'OWNER_DESCR',\n",
    "               'STATE',\n",
    "               'COUNTY',\n",
    "               'FIPS_CODE', \n",
    "               'FIPS_NAME']]"
   ]
  },
  {
   "cell_type": "code",
   "execution_count": 8,
   "id": "fa90d4aa",
   "metadata": {
    "ExecuteTime": {
     "end_time": "2024-03-10T22:26:30.126131Z",
     "start_time": "2024-03-10T22:26:30.111946Z"
    }
   },
   "outputs": [
    {
     "data": {
      "text/plain": "        SOURCE_SYSTEM_TYPE SOURCE_SYSTEM  FIRE_YEAR  DISCOVERY_DATE  \\\n0                      FED   FS-FIRESTAT       2005       2453403.5   \n1                      FED   FS-FIRESTAT       2004       2453137.5   \n2                      FED   FS-FIRESTAT       2004       2453156.5   \n3                      FED   FS-FIRESTAT       2004       2453184.5   \n4                      FED   FS-FIRESTAT       2004       2453184.5   \n...                    ...           ...        ...             ...   \n1880460             NONFED      ST-CACDF       2015       2457291.5   \n1880461             NONFED      ST-CACDF       2015       2457300.5   \n1880462             NONFED      ST-CACDF       2015       2457144.5   \n1880463             NONFED      ST-CACDF       2015       2457309.5   \n1880464             NONFED      ST-CACDF       2015       2457095.5   \n\n         DISCOVERY_DOY DISCOVERY_TIME   STAT_CAUSE_DESCR  CONT_DATE  CONT_DOY  \\\n0                   33           1300      Miscellaneous  2453403.5      33.0   \n1                  133           0845          Lightning  2453137.5     133.0   \n2                  152           1921     Debris Burning  2453156.5     152.0   \n3                  180           1600          Lightning  2453189.5     185.0   \n4                  180           1600          Lightning  2453189.5     185.0   \n...                ...            ...                ...        ...       ...   \n1880460            269           1726  Missing/Undefined  2457291.5     269.0   \n1880461            278           0126      Miscellaneous        NaN       NaN   \n1880462            122           2052  Missing/Undefined        NaN       NaN   \n1880463            287           2309  Missing/Undefined        NaN       NaN   \n1880464             73           2128      Miscellaneous        NaN       NaN   \n\n        CONT_TIME  FIRE_SIZE FIRE_SIZE_CLASS   LATITUDE   LONGITUDE  \\\n0            1730       0.10               A  40.036944 -121.005833   \n1            1530       0.25               A  38.933056 -120.404444   \n2            2024       0.10               A  38.984167 -120.735556   \n3            1400       0.10               A  38.559167 -119.913333   \n4            1200       0.10               A  38.559167 -119.933056   \n...           ...        ...             ...        ...         ...   \n1880460      1843       0.01               A  40.481637 -122.389375   \n1880461      None       0.20               A  37.617619 -120.938570   \n1880462      None       0.10               A  37.617619 -120.938570   \n1880463      None       2.00               B  37.672235 -120.898356   \n1880464      None       0.10               A  34.263217 -116.830950   \n\n         OWNER_CODE       OWNER_DESCR STATE COUNTY FIPS_CODE  FIPS_NAME  \n0               5.0              USFS    CA     63       063     Plumas  \n1               5.0              USFS    CA     61       061     Placer  \n2              13.0  STATE OR PRIVATE    CA     17       017  El Dorado  \n3               5.0              USFS    CA      3       003     Alpine  \n4               5.0              USFS    CA      3       003     Alpine  \n...             ...               ...   ...    ...       ...        ...  \n1880460        13.0  STATE OR PRIVATE    CA   None      None       None  \n1880461        12.0   MUNICIPAL/LOCAL    CA   None      None       None  \n1880462        12.0   MUNICIPAL/LOCAL    CA   None      None       None  \n1880463        12.0   MUNICIPAL/LOCAL    CA   None      None       None  \n1880464        13.0  STATE OR PRIVATE    CA   None      None       None  \n\n[1880465 rows x 20 columns]",
      "text/html": "<div>\n<style scoped>\n    .dataframe tbody tr th:only-of-type {\n        vertical-align: middle;\n    }\n\n    .dataframe tbody tr th {\n        vertical-align: top;\n    }\n\n    .dataframe thead th {\n        text-align: right;\n    }\n</style>\n<table border=\"1\" class=\"dataframe\">\n  <thead>\n    <tr style=\"text-align: right;\">\n      <th></th>\n      <th>SOURCE_SYSTEM_TYPE</th>\n      <th>SOURCE_SYSTEM</th>\n      <th>FIRE_YEAR</th>\n      <th>DISCOVERY_DATE</th>\n      <th>DISCOVERY_DOY</th>\n      <th>DISCOVERY_TIME</th>\n      <th>STAT_CAUSE_DESCR</th>\n      <th>CONT_DATE</th>\n      <th>CONT_DOY</th>\n      <th>CONT_TIME</th>\n      <th>FIRE_SIZE</th>\n      <th>FIRE_SIZE_CLASS</th>\n      <th>LATITUDE</th>\n      <th>LONGITUDE</th>\n      <th>OWNER_CODE</th>\n      <th>OWNER_DESCR</th>\n      <th>STATE</th>\n      <th>COUNTY</th>\n      <th>FIPS_CODE</th>\n      <th>FIPS_NAME</th>\n    </tr>\n  </thead>\n  <tbody>\n    <tr>\n      <th>0</th>\n      <td>FED</td>\n      <td>FS-FIRESTAT</td>\n      <td>2005</td>\n      <td>2453403.5</td>\n      <td>33</td>\n      <td>1300</td>\n      <td>Miscellaneous</td>\n      <td>2453403.5</td>\n      <td>33.0</td>\n      <td>1730</td>\n      <td>0.10</td>\n      <td>A</td>\n      <td>40.036944</td>\n      <td>-121.005833</td>\n      <td>5.0</td>\n      <td>USFS</td>\n      <td>CA</td>\n      <td>63</td>\n      <td>063</td>\n      <td>Plumas</td>\n    </tr>\n    <tr>\n      <th>1</th>\n      <td>FED</td>\n      <td>FS-FIRESTAT</td>\n      <td>2004</td>\n      <td>2453137.5</td>\n      <td>133</td>\n      <td>0845</td>\n      <td>Lightning</td>\n      <td>2453137.5</td>\n      <td>133.0</td>\n      <td>1530</td>\n      <td>0.25</td>\n      <td>A</td>\n      <td>38.933056</td>\n      <td>-120.404444</td>\n      <td>5.0</td>\n      <td>USFS</td>\n      <td>CA</td>\n      <td>61</td>\n      <td>061</td>\n      <td>Placer</td>\n    </tr>\n    <tr>\n      <th>2</th>\n      <td>FED</td>\n      <td>FS-FIRESTAT</td>\n      <td>2004</td>\n      <td>2453156.5</td>\n      <td>152</td>\n      <td>1921</td>\n      <td>Debris Burning</td>\n      <td>2453156.5</td>\n      <td>152.0</td>\n      <td>2024</td>\n      <td>0.10</td>\n      <td>A</td>\n      <td>38.984167</td>\n      <td>-120.735556</td>\n      <td>13.0</td>\n      <td>STATE OR PRIVATE</td>\n      <td>CA</td>\n      <td>17</td>\n      <td>017</td>\n      <td>El Dorado</td>\n    </tr>\n    <tr>\n      <th>3</th>\n      <td>FED</td>\n      <td>FS-FIRESTAT</td>\n      <td>2004</td>\n      <td>2453184.5</td>\n      <td>180</td>\n      <td>1600</td>\n      <td>Lightning</td>\n      <td>2453189.5</td>\n      <td>185.0</td>\n      <td>1400</td>\n      <td>0.10</td>\n      <td>A</td>\n      <td>38.559167</td>\n      <td>-119.913333</td>\n      <td>5.0</td>\n      <td>USFS</td>\n      <td>CA</td>\n      <td>3</td>\n      <td>003</td>\n      <td>Alpine</td>\n    </tr>\n    <tr>\n      <th>4</th>\n      <td>FED</td>\n      <td>FS-FIRESTAT</td>\n      <td>2004</td>\n      <td>2453184.5</td>\n      <td>180</td>\n      <td>1600</td>\n      <td>Lightning</td>\n      <td>2453189.5</td>\n      <td>185.0</td>\n      <td>1200</td>\n      <td>0.10</td>\n      <td>A</td>\n      <td>38.559167</td>\n      <td>-119.933056</td>\n      <td>5.0</td>\n      <td>USFS</td>\n      <td>CA</td>\n      <td>3</td>\n      <td>003</td>\n      <td>Alpine</td>\n    </tr>\n    <tr>\n      <th>...</th>\n      <td>...</td>\n      <td>...</td>\n      <td>...</td>\n      <td>...</td>\n      <td>...</td>\n      <td>...</td>\n      <td>...</td>\n      <td>...</td>\n      <td>...</td>\n      <td>...</td>\n      <td>...</td>\n      <td>...</td>\n      <td>...</td>\n      <td>...</td>\n      <td>...</td>\n      <td>...</td>\n      <td>...</td>\n      <td>...</td>\n      <td>...</td>\n      <td>...</td>\n    </tr>\n    <tr>\n      <th>1880460</th>\n      <td>NONFED</td>\n      <td>ST-CACDF</td>\n      <td>2015</td>\n      <td>2457291.5</td>\n      <td>269</td>\n      <td>1726</td>\n      <td>Missing/Undefined</td>\n      <td>2457291.5</td>\n      <td>269.0</td>\n      <td>1843</td>\n      <td>0.01</td>\n      <td>A</td>\n      <td>40.481637</td>\n      <td>-122.389375</td>\n      <td>13.0</td>\n      <td>STATE OR PRIVATE</td>\n      <td>CA</td>\n      <td>None</td>\n      <td>None</td>\n      <td>None</td>\n    </tr>\n    <tr>\n      <th>1880461</th>\n      <td>NONFED</td>\n      <td>ST-CACDF</td>\n      <td>2015</td>\n      <td>2457300.5</td>\n      <td>278</td>\n      <td>0126</td>\n      <td>Miscellaneous</td>\n      <td>NaN</td>\n      <td>NaN</td>\n      <td>None</td>\n      <td>0.20</td>\n      <td>A</td>\n      <td>37.617619</td>\n      <td>-120.938570</td>\n      <td>12.0</td>\n      <td>MUNICIPAL/LOCAL</td>\n      <td>CA</td>\n      <td>None</td>\n      <td>None</td>\n      <td>None</td>\n    </tr>\n    <tr>\n      <th>1880462</th>\n      <td>NONFED</td>\n      <td>ST-CACDF</td>\n      <td>2015</td>\n      <td>2457144.5</td>\n      <td>122</td>\n      <td>2052</td>\n      <td>Missing/Undefined</td>\n      <td>NaN</td>\n      <td>NaN</td>\n      <td>None</td>\n      <td>0.10</td>\n      <td>A</td>\n      <td>37.617619</td>\n      <td>-120.938570</td>\n      <td>12.0</td>\n      <td>MUNICIPAL/LOCAL</td>\n      <td>CA</td>\n      <td>None</td>\n      <td>None</td>\n      <td>None</td>\n    </tr>\n    <tr>\n      <th>1880463</th>\n      <td>NONFED</td>\n      <td>ST-CACDF</td>\n      <td>2015</td>\n      <td>2457309.5</td>\n      <td>287</td>\n      <td>2309</td>\n      <td>Missing/Undefined</td>\n      <td>NaN</td>\n      <td>NaN</td>\n      <td>None</td>\n      <td>2.00</td>\n      <td>B</td>\n      <td>37.672235</td>\n      <td>-120.898356</td>\n      <td>12.0</td>\n      <td>MUNICIPAL/LOCAL</td>\n      <td>CA</td>\n      <td>None</td>\n      <td>None</td>\n      <td>None</td>\n    </tr>\n    <tr>\n      <th>1880464</th>\n      <td>NONFED</td>\n      <td>ST-CACDF</td>\n      <td>2015</td>\n      <td>2457095.5</td>\n      <td>73</td>\n      <td>2128</td>\n      <td>Miscellaneous</td>\n      <td>NaN</td>\n      <td>NaN</td>\n      <td>None</td>\n      <td>0.10</td>\n      <td>A</td>\n      <td>34.263217</td>\n      <td>-116.830950</td>\n      <td>13.0</td>\n      <td>STATE OR PRIVATE</td>\n      <td>CA</td>\n      <td>None</td>\n      <td>None</td>\n      <td>None</td>\n    </tr>\n  </tbody>\n</table>\n<p>1880465 rows × 20 columns</p>\n</div>"
     },
     "execution_count": 8,
     "metadata": {},
     "output_type": "execute_result"
    }
   ],
   "source": [
    "fires"
   ]
  },
  {
   "cell_type": "code",
   "execution_count": 9,
   "id": "61501d28",
   "metadata": {
    "ExecuteTime": {
     "end_time": "2024-03-10T22:26:36.093345Z",
     "start_time": "2024-03-10T22:26:35.167906Z"
    }
   },
   "outputs": [
    {
     "data": {
      "text/plain": "SOURCE_SYSTEM_TYPE         0\nSOURCE_SYSTEM              0\nFIRE_YEAR                  0\nDISCOVERY_DATE             0\nDISCOVERY_DOY              0\nDISCOVERY_TIME        882638\nSTAT_CAUSE_DESCR           0\nCONT_DATE             891531\nCONT_DOY              891531\nCONT_TIME             972173\nFIRE_SIZE                  0\nFIRE_SIZE_CLASS            0\nLATITUDE                   0\nLONGITUDE                  0\nOWNER_CODE                 0\nOWNER_DESCR                0\nSTATE                      0\nCOUNTY                678148\nFIPS_CODE             678148\nFIPS_NAME             678148\ndtype: int64"
     },
     "execution_count": 9,
     "metadata": {},
     "output_type": "execute_result"
    }
   ],
   "source": [
    "fires.isnull().sum()"
   ]
  },
  {
   "cell_type": "code",
   "execution_count": 10,
   "id": "6242e2c6",
   "metadata": {
    "ExecuteTime": {
     "end_time": "2024-03-10T22:26:38.189627Z",
     "start_time": "2024-03-10T22:26:37.139704Z"
    }
   },
   "outputs": [
    {
     "data": {
      "text/plain": "        SOURCE_SYSTEM_TYPE SOURCE_SYSTEM  FIRE_YEAR  DISCOVERY_DATE  \\\n0                      FED   FS-FIRESTAT       2005       2453403.5   \n1                      FED   FS-FIRESTAT       2004       2453137.5   \n2                      FED   FS-FIRESTAT       2004       2453156.5   \n3                      FED   FS-FIRESTAT       2004       2453184.5   \n4                      FED   FS-FIRESTAT       2004       2453184.5   \n...                    ...           ...        ...             ...   \n1872298             NONFED       ST-NASF       2015       2457367.5   \n1872299             NONFED       ST-NASF       2015       2457323.5   \n1872301             NONFED       ST-NASF       2015       2457316.5   \n1872302             NONFED       ST-NASF       2015       2457353.5   \n1872304             NONFED       ST-NASF       2015       2457302.5   \n\n         DISCOVERY_DOY DISCOVERY_TIME   STAT_CAUSE_DESCR  CONT_DATE  CONT_DOY  \\\n0                   33           1300      Miscellaneous  2453403.5      33.0   \n1                  133           0845          Lightning  2453137.5     133.0   \n2                  152           1921     Debris Burning  2453156.5     152.0   \n3                  180           1600          Lightning  2453189.5     185.0   \n4                  180           1600          Lightning  2453189.5     185.0   \n...                ...            ...                ...        ...       ...   \n1872298            345           1936  Missing/Undefined  2457367.5     345.0   \n1872299            301           0758      Miscellaneous  2457323.5     301.0   \n1872301            294           0356      Miscellaneous  2457316.5     294.0   \n1872302            331           0349      Miscellaneous  2457353.5     331.0   \n1872304            280           1244      Miscellaneous  2457302.5     280.0   \n\n        CONT_TIME  FIRE_SIZE FIRE_SIZE_CLASS   LATITUDE   LONGITUDE  \\\n0            1730       0.10               A  40.036944 -121.005833   \n1            1530       0.25               A  38.933056 -120.404444   \n2            2024       0.10               A  38.984167 -120.735556   \n3            1400       0.10               A  38.559167 -119.913333   \n4            1200       0.10               A  38.559167 -119.933056   \n...           ...        ...             ...        ...         ...   \n1872298      1953       0.02               A  33.709175 -116.179773   \n1872299      1445       0.01               A  40.476117 -123.943617   \n1872301      0415       0.10               A  38.172881 -120.801955   \n1872302      0359       0.10               A  33.919157 -116.882973   \n1872304      1245       0.01               A  39.365926 -123.233855   \n\n         OWNER_CODE            OWNER_DESCR STATE     COUNTY FIPS_CODE  \\\n0               5.0                   USFS    CA         63       063   \n1               5.0                   USFS    CA         61       061   \n2              13.0       STATE OR PRIVATE    CA         17       017   \n3               5.0                   USFS    CA          3       003   \n4               5.0                   USFS    CA          3       003   \n...             ...                    ...   ...        ...       ...   \n1872298        14.0  MISSING/NOT SPECIFIED    CA  RIVERSIDE       065   \n1872299        14.0  MISSING/NOT SPECIFIED    CA   HUMBOLDT       023   \n1872301        15.0      UNDEFINED FEDERAL    CA  CALAVERAS       009   \n1872302        14.0  MISSING/NOT SPECIFIED    CA  RIVERSIDE       065   \n1872304        14.0  MISSING/NOT SPECIFIED    CA  MENDOCINO       045   \n\n         FIPS_NAME  \n0           Plumas  \n1           Placer  \n2        El Dorado  \n3           Alpine  \n4           Alpine  \n...            ...  \n1872298  Riverside  \n1872299   Humboldt  \n1872301  Calaveras  \n1872302  Riverside  \n1872304  Mendocino  \n\n[581159 rows x 20 columns]",
      "text/html": "<div>\n<style scoped>\n    .dataframe tbody tr th:only-of-type {\n        vertical-align: middle;\n    }\n\n    .dataframe tbody tr th {\n        vertical-align: top;\n    }\n\n    .dataframe thead th {\n        text-align: right;\n    }\n</style>\n<table border=\"1\" class=\"dataframe\">\n  <thead>\n    <tr style=\"text-align: right;\">\n      <th></th>\n      <th>SOURCE_SYSTEM_TYPE</th>\n      <th>SOURCE_SYSTEM</th>\n      <th>FIRE_YEAR</th>\n      <th>DISCOVERY_DATE</th>\n      <th>DISCOVERY_DOY</th>\n      <th>DISCOVERY_TIME</th>\n      <th>STAT_CAUSE_DESCR</th>\n      <th>CONT_DATE</th>\n      <th>CONT_DOY</th>\n      <th>CONT_TIME</th>\n      <th>FIRE_SIZE</th>\n      <th>FIRE_SIZE_CLASS</th>\n      <th>LATITUDE</th>\n      <th>LONGITUDE</th>\n      <th>OWNER_CODE</th>\n      <th>OWNER_DESCR</th>\n      <th>STATE</th>\n      <th>COUNTY</th>\n      <th>FIPS_CODE</th>\n      <th>FIPS_NAME</th>\n    </tr>\n  </thead>\n  <tbody>\n    <tr>\n      <th>0</th>\n      <td>FED</td>\n      <td>FS-FIRESTAT</td>\n      <td>2005</td>\n      <td>2453403.5</td>\n      <td>33</td>\n      <td>1300</td>\n      <td>Miscellaneous</td>\n      <td>2453403.5</td>\n      <td>33.0</td>\n      <td>1730</td>\n      <td>0.10</td>\n      <td>A</td>\n      <td>40.036944</td>\n      <td>-121.005833</td>\n      <td>5.0</td>\n      <td>USFS</td>\n      <td>CA</td>\n      <td>63</td>\n      <td>063</td>\n      <td>Plumas</td>\n    </tr>\n    <tr>\n      <th>1</th>\n      <td>FED</td>\n      <td>FS-FIRESTAT</td>\n      <td>2004</td>\n      <td>2453137.5</td>\n      <td>133</td>\n      <td>0845</td>\n      <td>Lightning</td>\n      <td>2453137.5</td>\n      <td>133.0</td>\n      <td>1530</td>\n      <td>0.25</td>\n      <td>A</td>\n      <td>38.933056</td>\n      <td>-120.404444</td>\n      <td>5.0</td>\n      <td>USFS</td>\n      <td>CA</td>\n      <td>61</td>\n      <td>061</td>\n      <td>Placer</td>\n    </tr>\n    <tr>\n      <th>2</th>\n      <td>FED</td>\n      <td>FS-FIRESTAT</td>\n      <td>2004</td>\n      <td>2453156.5</td>\n      <td>152</td>\n      <td>1921</td>\n      <td>Debris Burning</td>\n      <td>2453156.5</td>\n      <td>152.0</td>\n      <td>2024</td>\n      <td>0.10</td>\n      <td>A</td>\n      <td>38.984167</td>\n      <td>-120.735556</td>\n      <td>13.0</td>\n      <td>STATE OR PRIVATE</td>\n      <td>CA</td>\n      <td>17</td>\n      <td>017</td>\n      <td>El Dorado</td>\n    </tr>\n    <tr>\n      <th>3</th>\n      <td>FED</td>\n      <td>FS-FIRESTAT</td>\n      <td>2004</td>\n      <td>2453184.5</td>\n      <td>180</td>\n      <td>1600</td>\n      <td>Lightning</td>\n      <td>2453189.5</td>\n      <td>185.0</td>\n      <td>1400</td>\n      <td>0.10</td>\n      <td>A</td>\n      <td>38.559167</td>\n      <td>-119.913333</td>\n      <td>5.0</td>\n      <td>USFS</td>\n      <td>CA</td>\n      <td>3</td>\n      <td>003</td>\n      <td>Alpine</td>\n    </tr>\n    <tr>\n      <th>4</th>\n      <td>FED</td>\n      <td>FS-FIRESTAT</td>\n      <td>2004</td>\n      <td>2453184.5</td>\n      <td>180</td>\n      <td>1600</td>\n      <td>Lightning</td>\n      <td>2453189.5</td>\n      <td>185.0</td>\n      <td>1200</td>\n      <td>0.10</td>\n      <td>A</td>\n      <td>38.559167</td>\n      <td>-119.933056</td>\n      <td>5.0</td>\n      <td>USFS</td>\n      <td>CA</td>\n      <td>3</td>\n      <td>003</td>\n      <td>Alpine</td>\n    </tr>\n    <tr>\n      <th>...</th>\n      <td>...</td>\n      <td>...</td>\n      <td>...</td>\n      <td>...</td>\n      <td>...</td>\n      <td>...</td>\n      <td>...</td>\n      <td>...</td>\n      <td>...</td>\n      <td>...</td>\n      <td>...</td>\n      <td>...</td>\n      <td>...</td>\n      <td>...</td>\n      <td>...</td>\n      <td>...</td>\n      <td>...</td>\n      <td>...</td>\n      <td>...</td>\n      <td>...</td>\n    </tr>\n    <tr>\n      <th>1872298</th>\n      <td>NONFED</td>\n      <td>ST-NASF</td>\n      <td>2015</td>\n      <td>2457367.5</td>\n      <td>345</td>\n      <td>1936</td>\n      <td>Missing/Undefined</td>\n      <td>2457367.5</td>\n      <td>345.0</td>\n      <td>1953</td>\n      <td>0.02</td>\n      <td>A</td>\n      <td>33.709175</td>\n      <td>-116.179773</td>\n      <td>14.0</td>\n      <td>MISSING/NOT SPECIFIED</td>\n      <td>CA</td>\n      <td>RIVERSIDE</td>\n      <td>065</td>\n      <td>Riverside</td>\n    </tr>\n    <tr>\n      <th>1872299</th>\n      <td>NONFED</td>\n      <td>ST-NASF</td>\n      <td>2015</td>\n      <td>2457323.5</td>\n      <td>301</td>\n      <td>0758</td>\n      <td>Miscellaneous</td>\n      <td>2457323.5</td>\n      <td>301.0</td>\n      <td>1445</td>\n      <td>0.01</td>\n      <td>A</td>\n      <td>40.476117</td>\n      <td>-123.943617</td>\n      <td>14.0</td>\n      <td>MISSING/NOT SPECIFIED</td>\n      <td>CA</td>\n      <td>HUMBOLDT</td>\n      <td>023</td>\n      <td>Humboldt</td>\n    </tr>\n    <tr>\n      <th>1872301</th>\n      <td>NONFED</td>\n      <td>ST-NASF</td>\n      <td>2015</td>\n      <td>2457316.5</td>\n      <td>294</td>\n      <td>0356</td>\n      <td>Miscellaneous</td>\n      <td>2457316.5</td>\n      <td>294.0</td>\n      <td>0415</td>\n      <td>0.10</td>\n      <td>A</td>\n      <td>38.172881</td>\n      <td>-120.801955</td>\n      <td>15.0</td>\n      <td>UNDEFINED FEDERAL</td>\n      <td>CA</td>\n      <td>CALAVERAS</td>\n      <td>009</td>\n      <td>Calaveras</td>\n    </tr>\n    <tr>\n      <th>1872302</th>\n      <td>NONFED</td>\n      <td>ST-NASF</td>\n      <td>2015</td>\n      <td>2457353.5</td>\n      <td>331</td>\n      <td>0349</td>\n      <td>Miscellaneous</td>\n      <td>2457353.5</td>\n      <td>331.0</td>\n      <td>0359</td>\n      <td>0.10</td>\n      <td>A</td>\n      <td>33.919157</td>\n      <td>-116.882973</td>\n      <td>14.0</td>\n      <td>MISSING/NOT SPECIFIED</td>\n      <td>CA</td>\n      <td>RIVERSIDE</td>\n      <td>065</td>\n      <td>Riverside</td>\n    </tr>\n    <tr>\n      <th>1872304</th>\n      <td>NONFED</td>\n      <td>ST-NASF</td>\n      <td>2015</td>\n      <td>2457302.5</td>\n      <td>280</td>\n      <td>1244</td>\n      <td>Miscellaneous</td>\n      <td>2457302.5</td>\n      <td>280.0</td>\n      <td>1245</td>\n      <td>0.01</td>\n      <td>A</td>\n      <td>39.365926</td>\n      <td>-123.233855</td>\n      <td>14.0</td>\n      <td>MISSING/NOT SPECIFIED</td>\n      <td>CA</td>\n      <td>MENDOCINO</td>\n      <td>045</td>\n      <td>Mendocino</td>\n    </tr>\n  </tbody>\n</table>\n<p>581159 rows × 20 columns</p>\n</div>"
     },
     "execution_count": 10,
     "metadata": {},
     "output_type": "execute_result"
    }
   ],
   "source": [
    "fires = fires.dropna()\n",
    "fires"
   ]
  },
  {
   "cell_type": "code",
   "execution_count": 11,
   "id": "a4893bfa",
   "metadata": {
    "ExecuteTime": {
     "end_time": "2024-03-10T22:26:42.875738Z",
     "start_time": "2024-03-10T22:26:40.239851Z"
    }
   },
   "outputs": [],
   "source": [
    "fires.to_csv('fires.csv', index = False)"
   ]
  },
  {
   "cell_type": "code",
   "execution_count": 12,
   "id": "13098b32",
   "metadata": {
    "ExecuteTime": {
     "end_time": "2024-03-10T22:26:44.435474Z",
     "start_time": "2024-03-10T22:26:43.644592Z"
    }
   },
   "outputs": [],
   "source": [
    "fires = pd.read_csv('fires.csv', index_col=False, dtype={'SOURCE_SYSTEM_TYPE': str, \n",
    "                                        'SOURCE_SYSTEM': str,\n",
    "                                        'STAT_CAUSE_DESCR': str,\n",
    "                                        'FIRE_SIZE_CLASS': str,\n",
    "                                        'OWNER_DESCR': str,\n",
    "                                        'STATE': str,\n",
    "                                        'COUNTY': str,\n",
    "                                        'FIPS_NAME': str})"
   ]
  },
  {
   "cell_type": "code",
   "execution_count": 13,
   "id": "4b7e4f00",
   "metadata": {
    "ExecuteTime": {
     "end_time": "2024-03-10T22:26:46.032186Z",
     "start_time": "2024-03-10T22:26:45.309136Z"
    }
   },
   "outputs": [
    {
     "ename": "KeyError",
     "evalue": "\"['Unnamed: 0.1', 'Unnamed: 0'] not found in axis\"",
     "output_type": "error",
     "traceback": [
      "\u001B[0;31m---------------------------------------------------------------------------\u001B[0m",
      "\u001B[0;31mKeyError\u001B[0m                                  Traceback (most recent call last)",
      "Cell \u001B[0;32mIn[13], line 1\u001B[0m\n\u001B[0;32m----> 1\u001B[0m fires \u001B[38;5;241m=\u001B[39m \u001B[43mfires\u001B[49m\u001B[38;5;241;43m.\u001B[39;49m\u001B[43mdrop\u001B[49m\u001B[43m(\u001B[49m\u001B[43mcolumns\u001B[49m\u001B[38;5;241;43m=\u001B[39;49m\u001B[43m[\u001B[49m\u001B[38;5;124;43m'\u001B[39;49m\u001B[38;5;124;43mUnnamed: 0.1\u001B[39;49m\u001B[38;5;124;43m'\u001B[39;49m\u001B[43m,\u001B[49m\u001B[43m \u001B[49m\u001B[38;5;124;43m'\u001B[39;49m\u001B[38;5;124;43mUnnamed: 0\u001B[39;49m\u001B[38;5;124;43m'\u001B[39;49m\u001B[43m]\u001B[49m\u001B[43m)\u001B[49m\n",
      "File \u001B[0;32m/Library/Frameworks/Python.framework/Versions/3.12/lib/python3.12/site-packages/pandas/core/frame.py:5568\u001B[0m, in \u001B[0;36mDataFrame.drop\u001B[0;34m(self, labels, axis, index, columns, level, inplace, errors)\u001B[0m\n\u001B[1;32m   5420\u001B[0m \u001B[38;5;28;01mdef\u001B[39;00m \u001B[38;5;21mdrop\u001B[39m(\n\u001B[1;32m   5421\u001B[0m     \u001B[38;5;28mself\u001B[39m,\n\u001B[1;32m   5422\u001B[0m     labels: IndexLabel \u001B[38;5;241m|\u001B[39m \u001B[38;5;28;01mNone\u001B[39;00m \u001B[38;5;241m=\u001B[39m \u001B[38;5;28;01mNone\u001B[39;00m,\n\u001B[0;32m   (...)\u001B[0m\n\u001B[1;32m   5429\u001B[0m     errors: IgnoreRaise \u001B[38;5;241m=\u001B[39m \u001B[38;5;124m\"\u001B[39m\u001B[38;5;124mraise\u001B[39m\u001B[38;5;124m\"\u001B[39m,\n\u001B[1;32m   5430\u001B[0m ) \u001B[38;5;241m-\u001B[39m\u001B[38;5;241m>\u001B[39m DataFrame \u001B[38;5;241m|\u001B[39m \u001B[38;5;28;01mNone\u001B[39;00m:\n\u001B[1;32m   5431\u001B[0m \u001B[38;5;250m    \u001B[39m\u001B[38;5;124;03m\"\"\"\u001B[39;00m\n\u001B[1;32m   5432\u001B[0m \u001B[38;5;124;03m    Drop specified labels from rows or columns.\u001B[39;00m\n\u001B[1;32m   5433\u001B[0m \n\u001B[0;32m   (...)\u001B[0m\n\u001B[1;32m   5566\u001B[0m \u001B[38;5;124;03m            weight  1.0     0.8\u001B[39;00m\n\u001B[1;32m   5567\u001B[0m \u001B[38;5;124;03m    \"\"\"\u001B[39;00m\n\u001B[0;32m-> 5568\u001B[0m     \u001B[38;5;28;01mreturn\u001B[39;00m \u001B[38;5;28;43msuper\u001B[39;49m\u001B[43m(\u001B[49m\u001B[43m)\u001B[49m\u001B[38;5;241;43m.\u001B[39;49m\u001B[43mdrop\u001B[49m\u001B[43m(\u001B[49m\n\u001B[1;32m   5569\u001B[0m \u001B[43m        \u001B[49m\u001B[43mlabels\u001B[49m\u001B[38;5;241;43m=\u001B[39;49m\u001B[43mlabels\u001B[49m\u001B[43m,\u001B[49m\n\u001B[1;32m   5570\u001B[0m \u001B[43m        \u001B[49m\u001B[43maxis\u001B[49m\u001B[38;5;241;43m=\u001B[39;49m\u001B[43maxis\u001B[49m\u001B[43m,\u001B[49m\n\u001B[1;32m   5571\u001B[0m \u001B[43m        \u001B[49m\u001B[43mindex\u001B[49m\u001B[38;5;241;43m=\u001B[39;49m\u001B[43mindex\u001B[49m\u001B[43m,\u001B[49m\n\u001B[1;32m   5572\u001B[0m \u001B[43m        \u001B[49m\u001B[43mcolumns\u001B[49m\u001B[38;5;241;43m=\u001B[39;49m\u001B[43mcolumns\u001B[49m\u001B[43m,\u001B[49m\n\u001B[1;32m   5573\u001B[0m \u001B[43m        \u001B[49m\u001B[43mlevel\u001B[49m\u001B[38;5;241;43m=\u001B[39;49m\u001B[43mlevel\u001B[49m\u001B[43m,\u001B[49m\n\u001B[1;32m   5574\u001B[0m \u001B[43m        \u001B[49m\u001B[43minplace\u001B[49m\u001B[38;5;241;43m=\u001B[39;49m\u001B[43minplace\u001B[49m\u001B[43m,\u001B[49m\n\u001B[1;32m   5575\u001B[0m \u001B[43m        \u001B[49m\u001B[43merrors\u001B[49m\u001B[38;5;241;43m=\u001B[39;49m\u001B[43merrors\u001B[49m\u001B[43m,\u001B[49m\n\u001B[1;32m   5576\u001B[0m \u001B[43m    \u001B[49m\u001B[43m)\u001B[49m\n",
      "File \u001B[0;32m/Library/Frameworks/Python.framework/Versions/3.12/lib/python3.12/site-packages/pandas/core/generic.py:4782\u001B[0m, in \u001B[0;36mNDFrame.drop\u001B[0;34m(self, labels, axis, index, columns, level, inplace, errors)\u001B[0m\n\u001B[1;32m   4780\u001B[0m \u001B[38;5;28;01mfor\u001B[39;00m axis, labels \u001B[38;5;129;01min\u001B[39;00m axes\u001B[38;5;241m.\u001B[39mitems():\n\u001B[1;32m   4781\u001B[0m     \u001B[38;5;28;01mif\u001B[39;00m labels \u001B[38;5;129;01mis\u001B[39;00m \u001B[38;5;129;01mnot\u001B[39;00m \u001B[38;5;28;01mNone\u001B[39;00m:\n\u001B[0;32m-> 4782\u001B[0m         obj \u001B[38;5;241m=\u001B[39m \u001B[43mobj\u001B[49m\u001B[38;5;241;43m.\u001B[39;49m\u001B[43m_drop_axis\u001B[49m\u001B[43m(\u001B[49m\u001B[43mlabels\u001B[49m\u001B[43m,\u001B[49m\u001B[43m \u001B[49m\u001B[43maxis\u001B[49m\u001B[43m,\u001B[49m\u001B[43m \u001B[49m\u001B[43mlevel\u001B[49m\u001B[38;5;241;43m=\u001B[39;49m\u001B[43mlevel\u001B[49m\u001B[43m,\u001B[49m\u001B[43m \u001B[49m\u001B[43merrors\u001B[49m\u001B[38;5;241;43m=\u001B[39;49m\u001B[43merrors\u001B[49m\u001B[43m)\u001B[49m\n\u001B[1;32m   4784\u001B[0m \u001B[38;5;28;01mif\u001B[39;00m inplace:\n\u001B[1;32m   4785\u001B[0m     \u001B[38;5;28mself\u001B[39m\u001B[38;5;241m.\u001B[39m_update_inplace(obj)\n",
      "File \u001B[0;32m/Library/Frameworks/Python.framework/Versions/3.12/lib/python3.12/site-packages/pandas/core/generic.py:4824\u001B[0m, in \u001B[0;36mNDFrame._drop_axis\u001B[0;34m(self, labels, axis, level, errors, only_slice)\u001B[0m\n\u001B[1;32m   4822\u001B[0m         new_axis \u001B[38;5;241m=\u001B[39m axis\u001B[38;5;241m.\u001B[39mdrop(labels, level\u001B[38;5;241m=\u001B[39mlevel, errors\u001B[38;5;241m=\u001B[39merrors)\n\u001B[1;32m   4823\u001B[0m     \u001B[38;5;28;01melse\u001B[39;00m:\n\u001B[0;32m-> 4824\u001B[0m         new_axis \u001B[38;5;241m=\u001B[39m \u001B[43maxis\u001B[49m\u001B[38;5;241;43m.\u001B[39;49m\u001B[43mdrop\u001B[49m\u001B[43m(\u001B[49m\u001B[43mlabels\u001B[49m\u001B[43m,\u001B[49m\u001B[43m \u001B[49m\u001B[43merrors\u001B[49m\u001B[38;5;241;43m=\u001B[39;49m\u001B[43merrors\u001B[49m\u001B[43m)\u001B[49m\n\u001B[1;32m   4825\u001B[0m     indexer \u001B[38;5;241m=\u001B[39m axis\u001B[38;5;241m.\u001B[39mget_indexer(new_axis)\n\u001B[1;32m   4827\u001B[0m \u001B[38;5;66;03m# Case for non-unique axis\u001B[39;00m\n\u001B[1;32m   4828\u001B[0m \u001B[38;5;28;01melse\u001B[39;00m:\n",
      "File \u001B[0;32m/Library/Frameworks/Python.framework/Versions/3.12/lib/python3.12/site-packages/pandas/core/indexes/base.py:7069\u001B[0m, in \u001B[0;36mIndex.drop\u001B[0;34m(self, labels, errors)\u001B[0m\n\u001B[1;32m   7067\u001B[0m \u001B[38;5;28;01mif\u001B[39;00m mask\u001B[38;5;241m.\u001B[39many():\n\u001B[1;32m   7068\u001B[0m     \u001B[38;5;28;01mif\u001B[39;00m errors \u001B[38;5;241m!=\u001B[39m \u001B[38;5;124m\"\u001B[39m\u001B[38;5;124mignore\u001B[39m\u001B[38;5;124m\"\u001B[39m:\n\u001B[0;32m-> 7069\u001B[0m         \u001B[38;5;28;01mraise\u001B[39;00m \u001B[38;5;167;01mKeyError\u001B[39;00m(\u001B[38;5;124mf\u001B[39m\u001B[38;5;124m\"\u001B[39m\u001B[38;5;132;01m{\u001B[39;00mlabels[mask]\u001B[38;5;241m.\u001B[39mtolist()\u001B[38;5;132;01m}\u001B[39;00m\u001B[38;5;124m not found in axis\u001B[39m\u001B[38;5;124m\"\u001B[39m)\n\u001B[1;32m   7070\u001B[0m     indexer \u001B[38;5;241m=\u001B[39m indexer[\u001B[38;5;241m~\u001B[39mmask]\n\u001B[1;32m   7071\u001B[0m \u001B[38;5;28;01mreturn\u001B[39;00m \u001B[38;5;28mself\u001B[39m\u001B[38;5;241m.\u001B[39mdelete(indexer)\n",
      "\u001B[0;31mKeyError\u001B[0m: \"['Unnamed: 0.1', 'Unnamed: 0'] not found in axis\""
     ]
    }
   ],
   "source": [
    "fires = fires.drop(columns=['Unnamed: 0.1', 'Unnamed: 0'])"
   ]
  },
  {
   "cell_type": "code",
   "execution_count": 14,
   "id": "f0ae3878",
   "metadata": {
    "ExecuteTime": {
     "end_time": "2024-03-10T22:26:51.346772Z",
     "start_time": "2024-03-10T22:26:51.248383Z"
    }
   },
   "outputs": [
    {
     "name": "stdout",
     "output_type": "stream",
     "text": [
      "<class 'pandas.core.frame.DataFrame'>\n",
      "RangeIndex: 581159 entries, 0 to 581158\n",
      "Data columns (total 20 columns):\n",
      " #   Column              Non-Null Count   Dtype  \n",
      "---  ------              --------------   -----  \n",
      " 0   SOURCE_SYSTEM_TYPE  581159 non-null  object \n",
      " 1   SOURCE_SYSTEM       581159 non-null  object \n",
      " 2   FIRE_YEAR           581159 non-null  int64  \n",
      " 3   DISCOVERY_DATE      581159 non-null  float64\n",
      " 4   DISCOVERY_DOY       581159 non-null  int64  \n",
      " 5   DISCOVERY_TIME      581159 non-null  int64  \n",
      " 6   STAT_CAUSE_DESCR    581159 non-null  object \n",
      " 7   CONT_DATE           581159 non-null  float64\n",
      " 8   CONT_DOY            581159 non-null  float64\n",
      " 9   CONT_TIME           581159 non-null  int64  \n",
      " 10  FIRE_SIZE           581159 non-null  float64\n",
      " 11  FIRE_SIZE_CLASS     581159 non-null  object \n",
      " 12  LATITUDE            581159 non-null  float64\n",
      " 13  LONGITUDE           581159 non-null  float64\n",
      " 14  OWNER_CODE          581159 non-null  float64\n",
      " 15  OWNER_DESCR         581159 non-null  object \n",
      " 16  STATE               581159 non-null  object \n",
      " 17  COUNTY              581159 non-null  object \n",
      " 18  FIPS_CODE           581159 non-null  int64  \n",
      " 19  FIPS_NAME           581159 non-null  object \n",
      "dtypes: float64(7), int64(5), object(8)\n",
      "memory usage: 88.7+ MB\n"
     ]
    }
   ],
   "source": [
    "fires.info()"
   ]
  },
  {
   "cell_type": "code",
   "execution_count": 15,
   "id": "6d83e1c7",
   "metadata": {
    "ExecuteTime": {
     "end_time": "2024-03-10T22:26:52.902134Z",
     "start_time": "2024-03-10T22:26:52.697875Z"
    }
   },
   "outputs": [
    {
     "name": "stdout",
     "output_type": "stream",
     "text": [
      "SOURCE_SYSTEM_TYPE         3\n",
      "SOURCE_SYSTEM             18\n",
      "FIRE_YEAR                 24\n",
      "DISCOVERY_DATE          8728\n",
      "DISCOVERY_DOY            366\n",
      "DISCOVERY_TIME          1440\n",
      "STAT_CAUSE_DESCR          13\n",
      "CONT_DATE               8726\n",
      "CONT_DOY                 366\n",
      "CONT_TIME               1440\n",
      "FIRE_SIZE               8991\n",
      "FIRE_SIZE_CLASS            7\n",
      "LATITUDE              371750\n",
      "LONGITUDE             406636\n",
      "OWNER_CODE                15\n",
      "OWNER_DESCR               15\n",
      "STATE                     51\n",
      "COUNTY                  2684\n",
      "FIPS_CODE                269\n",
      "FIPS_NAME               1540\n",
      "dtype: int64\n"
     ]
    }
   ],
   "source": [
    "unique_value_counts = fires.nunique()\n",
    "\n",
    "print(unique_value_counts)"
   ]
  },
  {
   "cell_type": "code",
   "outputs": [],
   "source": [],
   "metadata": {
    "collapsed": false
   },
   "id": "3492fe03f5e1a261",
   "execution_count": null
  },
  {
   "cell_type": "code",
   "outputs": [],
   "source": [],
   "metadata": {
    "collapsed": false
   },
   "id": "37e9f36be2ad6517"
  }
 ],
 "metadata": {
  "kernelspec": {
   "display_name": "Python 3 (ipykernel)",
   "language": "python",
   "name": "python3"
  },
  "language_info": {
   "codemirror_mode": {
    "name": "ipython",
    "version": 3
   },
   "file_extension": ".py",
   "mimetype": "text/x-python",
   "name": "python",
   "nbconvert_exporter": "python",
   "pygments_lexer": "ipython3",
   "version": "3.10.8"
  }
 },
 "nbformat": 4,
 "nbformat_minor": 5
}
